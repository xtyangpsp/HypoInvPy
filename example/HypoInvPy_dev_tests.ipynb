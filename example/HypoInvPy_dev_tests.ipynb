{
 "cells": [
  {
   "cell_type": "code",
   "execution_count": 46,
   "id": "470ddf2d-5458-4ebf-8f37-f54b3f6502ae",
   "metadata": {},
   "outputs": [],
   "source": [
    "import pandas as pd\n",
    "import numpy as np"
   ]
  },
  {
   "cell_type": "code",
   "execution_count": 2,
   "id": "f4e5f61c-1d8f-4593-9075-a5dc9809a7b6",
   "metadata": {},
   "outputs": [],
   "source": [
    "infile='input/station_list.json'\n",
    "\n"
   ]
  },
  {
   "cell_type": "code",
   "execution_count": 39,
   "id": "5b16f2bd-01c9-4976-85be-63da02f9bcba",
   "metadata": {},
   "outputs": [],
   "source": [
    "indata=pd.read_json(infile,orient='index')\n",
    "indata['station']=indata.index\n",
    "indata=indata.reset_index(drop=True)\n"
   ]
  },
  {
   "cell_type": "code",
   "execution_count": 61,
   "id": "15d4eccf-64cc-4cfa-b27b-dfdeb9f150dc",
   "metadata": {},
   "outputs": [
    {
     "name": "stdout",
     "output_type": "stream",
     "text": [
      "0    GS\n",
      "1    GS\n",
      "2    PB\n",
      "3    ZY\n",
      "Name: network, dtype: object\n"
     ]
    }
   ],
   "source": [
    "print(indata.network)"
   ]
  },
  {
   "cell_type": "code",
   "execution_count": 58,
   "id": "511e708f-e83e-4792-949a-701a66c3b2ec",
   "metadata": {},
   "outputs": [],
   "source": [
    "\n",
    "# allocate arrays/list for output columns\n",
    "net_all=[]\n",
    "sta_all=[]\n",
    "chan_all=[]\n",
    "lat_all=[]\n",
    "lon_all=[]\n",
    "ele_all=[]\n",
    "for i in range(len(indata)):\n",
    "    # [lat[i], lon[i],ele[i]]=coords_all[i]\n",
    "    for j in range(len(indata.channels[i])):\n",
    "        net_all.append(indata.network[i])\n",
    "        sta_all.append(indata.station[i])\n",
    "        chan_all.append(indata.channels[i][j])\n",
    "        lat_all.append(indata.coords[i][0])\n",
    "        lon_all.append(indata.coords[i][1])\n",
    "        ele_all.append(indata.coords[i][2])\n",
    "        \n",
    "        \n",
    "#"
   ]
  },
  {
   "cell_type": "code",
   "execution_count": 64,
   "id": "3d97baf2-4b28-4b6e-8fdc-efe446c128ea",
   "metadata": {},
   "outputs": [
    {
     "name": "stdout",
     "output_type": "stream",
     "text": [
      "   network station channel  latitude  longitude  elevation\n",
      "0       GS    CA06     HH2  35.59962 -117.49268      796.4\n",
      "1       GS    CA06     HHZ  35.59962 -117.49268      796.4\n",
      "2       GS    CA06     HH1  35.59962 -117.49268      796.4\n",
      "3       GS    CA10     HN1  35.56736 -117.66743      835.9\n",
      "4       GS    CA10     HNZ  35.56736 -117.66743      835.9\n",
      "5       GS    CA10     HN2  35.56736 -117.66743      835.9\n",
      "6       PB    B921     EH1  35.58650 -117.46220      694.5\n",
      "7       PB    B921     EHZ  35.58650 -117.46220      694.5\n",
      "8       PB    B921     EH2  35.58650 -117.46220      694.5\n",
      "9       ZY    SV08     HHN  35.57610 -117.41870      604.0\n",
      "10      ZY    SV08     HHE  35.57610 -117.41870      604.0\n",
      "11      ZY    SV08     HHZ  35.57610 -117.41870      604.0\n"
     ]
    }
   ],
   "source": [
    "outdata=pd.DataFrame(list(zip(net_all,sta_all,chan_all,lat_all,lon_all,ele_all)),columns=['network','station','channel',\n",
    "                                                                             'latitude','longitude','elevation'])"
   ]
  },
  {
   "cell_type": "code",
   "execution_count": 65,
   "id": "8fe00fa5-a93d-44b8-a53f-9c85fcce120f",
   "metadata": {},
   "outputs": [
    {
     "name": "stdout",
     "output_type": "stream",
     "text": [
      "   network station channel  latitude  longitude  elevation\n",
      "0       GS    CA06     HH2  35.59962 -117.49268      796.4\n",
      "1       GS    CA06     HHZ  35.59962 -117.49268      796.4\n",
      "2       GS    CA06     HH1  35.59962 -117.49268      796.4\n",
      "3       GS    CA10     HN1  35.56736 -117.66743      835.9\n",
      "4       GS    CA10     HNZ  35.56736 -117.66743      835.9\n",
      "5       GS    CA10     HN2  35.56736 -117.66743      835.9\n",
      "6       PB    B921     EH1  35.58650 -117.46220      694.5\n",
      "7       PB    B921     EHZ  35.58650 -117.46220      694.5\n",
      "8       PB    B921     EH2  35.58650 -117.46220      694.5\n",
      "9       ZY    SV08     HHN  35.57610 -117.41870      604.0\n",
      "10      ZY    SV08     HHE  35.57610 -117.41870      604.0\n",
      "11      ZY    SV08     HHZ  35.57610 -117.41870      604.0\n"
     ]
    }
   ],
   "source": [
    "print(outdata)"
   ]
  }
 ],
 "metadata": {
  "kernelspec": {
   "display_name": "hypoinv",
   "language": "python",
   "name": "hypoinv"
  },
  "language_info": {
   "codemirror_mode": {
    "name": "ipython",
    "version": 3
   },
   "file_extension": ".py",
   "mimetype": "text/x-python",
   "name": "python",
   "nbconvert_exporter": "python",
   "pygments_lexer": "ipython3",
   "version": "3.11.7"
  }
 },
 "nbformat": 4,
 "nbformat_minor": 5
}

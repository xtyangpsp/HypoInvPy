{
 "cells": [
  {
   "cell_type": "markdown",
   "id": "86114159-3c43-4c07-b4be-96dce5543a4e",
   "metadata": {},
   "source": [
    "# Examples of running HypoInvPy with utility functions\n",
    "The original event catalog and phase picks are the output of the QuakeFlow and GAMMA codes."
   ]
  },
  {
   "cell_type": "code",
   "execution_count": 1,
   "id": "470ddf2d-5458-4ebf-8f37-f54b3f6502ae",
   "metadata": {},
   "outputs": [],
   "source": [
    "import os, sys,glob\n",
    "import pandas as pd\n",
    "import numpy as np\n",
    "from hypoinvpy import core as hc\n",
    "from hypoinvpy import utils\n",
    "import json\n",
    "import matplotlib.pyplot as plt"
   ]
  },
  {
   "cell_type": "markdown",
   "id": "b59f75cc-8de3-465a-b68b-a37424c4c2f1",
   "metadata": {},
   "source": [
    "## Convert station information from json database to CSV\n",
    "The example here uses the *.json file saved by EQTransforer downloading step. The CSV file is for general purpose. To reformat it for HypoInverse code, please see the next example."
   ]
  },
  {
   "cell_type": "code",
   "execution_count": 2,
   "id": "3d97baf2-4b28-4b6e-8fdc-efe446c128ea",
   "metadata": {},
   "outputs": [
    {
     "name": "stdout",
     "output_type": "stream",
     "text": [
      "   network station channel   latitude   longitude  elevation\n",
      "0       AV    DEER     BHE  54.971270 -162.324370      392.3\n",
      "1       AV    DEER     BHN  54.971270 -162.324370      392.3\n",
      "2       AV    DEER     BHZ  54.971270 -162.324370      392.3\n",
      "3       AV     DOL     BHE  55.149621 -161.864720      453.0\n",
      "4       AV     DOL     BHN  55.149621 -161.864720      453.0\n",
      "5       AV     DOL     BHZ  55.149621 -161.864720      453.0\n",
      "6       AV     DT1     BHE  55.106270 -162.283130      198.0\n",
      "7       AV     DT1     BHN  55.106270 -162.283130      198.0\n",
      "8       AV     DT1     BHZ  55.106270 -162.283130      198.0\n",
      "9       AV     DTN     BHE  55.144800 -162.259000      396.0\n",
      "10      AV     DTN     BHN  55.144800 -162.259000      396.0\n",
      "11      AV     DTN     BHZ  55.144800 -162.259000      396.0\n",
      "12      AV     HAG     SHE  55.316860 -161.904390      515.4\n",
      "13      AV     HAG     SHN  55.316860 -161.904390      515.4\n",
      "14      AV     HAG     SHZ  55.316860 -161.904390      515.4\n",
      "15      AV    PN7A     BHE  55.432900 -161.997300      838.0\n",
      "16      AV    PN7A     BHN  55.432900 -161.997300      838.0\n",
      "17      AV    PN7A     BHZ  55.432900 -161.997300      838.0\n",
      "18      AV    PS1A     BHE  55.420050 -161.743730      282.5\n",
      "19      AV    PS1A     BHN  55.420050 -161.743730      282.5\n",
      "20      AV    PS1A     BHZ  55.420050 -161.743730      282.5\n",
      "21      AV    PS4A     BHE  55.346040 -161.856480      326.7\n",
      "22      AV    PS4A     BHN  55.346040 -161.856480      326.7\n",
      "23      AV    PS4A     BHZ  55.346040 -161.856480      326.7\n",
      "24      AV    PV6A     SHE  55.507000 -161.971400      352.0\n",
      "25      AV    PV6A     SHN  55.507000 -161.971400      352.0\n",
      "26      AV    PV6A     SHZ  55.507000 -161.971400      352.0\n",
      "27      AV     PVV     SHE  55.373120 -161.791920      164.0\n",
      "28      AV     PVV     SHN  55.373120 -161.791920      164.0\n",
      "29      AV     PVV     SHZ  55.373120 -161.791920      164.0\n",
      "30      AV    S12K     BHE  55.702988 -162.066971      399.0\n",
      "31      AV    S12K     BHN  55.702988 -162.066971      399.0\n",
      "32      AV    S12K     BHZ  55.702988 -162.066971      399.0\n"
     ]
    }
   ],
   "source": [
    "infile='input/GAMMA_station_list.json'\n",
    "station_csv='input/GAMMA_station_list.csv'\n",
    "utils.stainfo_json2csv(infile,informat='gamma',outfile=station_csv)\n",
    "stainfo=utils.stainfo_json2csv(infile,informat='gamma')\n",
    "print(stainfo)"
   ]
  },
  {
   "cell_type": "markdown",
   "id": "0cd5514d-57de-4880-925b-4c9a4ff2b9a6",
   "metadata": {},
   "source": [
    "## Reformat station information for HypoInverse code.\n",
    "The `HypoInvPy.core.reformat_stainfo()` function takes input in `json` or `csv` format. You can specify the format as `json-gamma` for json files from running the gamma workflow. See the source code or use `help()` to get detailed usage information of this function. \n",
    "\n",
    "* `force_channel_type` option is to force all channels to the specified type. This is because in some earthquake detection and association steps, the original channel types might be lost, making it impossible to link the phase data with station information.\n",
    "* `rename_component_dict` option is to rename component names. This is needec when some components originally having 1 or 2 in the names. These original names sometimes are not kept through the earthquake detection and association steps.\n",
    "* `ignore_component` option will ignore the component code and only saves the channel type, e.g., BH instead of BHZ."
   ]
  },
  {
   "cell_type": "code",
   "execution_count": 3,
   "id": "f1702fb4",
   "metadata": {},
   "outputs": [],
   "source": [
    "station_ready='input/GAMMA_station_list_ready.sta'\n",
    "hc.reformat_stainfo(infile,station_ready,informat='json-gamma',ignore_component=False)"
   ]
  },
  {
   "cell_type": "markdown",
   "id": "dbd184a7-b95e-44e0-b1d7-96327c4fe32a",
   "metadata": {},
   "source": [
    "## Convert the phase picks and catalog from GAMMA to Hypoinverse format\n",
    "The outputs from running GAMMA contain picks and preliminary catalog, while the solutions of locations are poor. This block shows examples of converting or merging the picks and earthquake catalog to phase data format needed by Hypoinverse. We are using Y2000-compatible format here (https://ncedc.org/ftp/pub/doc/ncsn/shadow2000.pdf).\n",
    "\n",
    "If `qc` is True, only events with both P and S picks will be saved. \n",
    "`default_component` here to address the issue that GAMMA picks only have two letters for the channels (only channel type). Use one letter code here to replace the empty component code. If the component code also exists, the `default_component` value will be ignored.\n"
   ]
  },
  {
   "cell_type": "code",
   "execution_count": 4,
   "id": "781312b0-10c5-40da-82c8-ac2466a20634",
   "metadata": {},
   "outputs": [
    {
     "name": "stderr",
     "output_type": "stream",
     "text": [
      "100%|████████████████████████████████████████████████████████████████████████████████████| 11/11 [00:00<00:00, 3207.99it/s]"
     ]
    },
    {
     "name": "stdout",
     "output_type": "stream",
     "text": [
      "202109250000190355 1584161E1116    0\n",
      "DEER AV  BHZ    4202109250000             4052 S 2    0.000001\n",
      "DT1  AV  BHZ  P 0202109250000 3126                    6.93497383963404e-07\n",
      "DTN  AV  BHZ    4202109250000             4050 S 2    0.000001\n",
      "HAG  AV  SHZ    4202109250000             3280 S 2    0.000000\n",
      "S12K AV  BHZ    4202109250000             4068 S 1    0.000001\n",
      "-> Saved 6 phase picks. \n",
      "202109250139324855  252162E 846    0\n",
      "PN7A AV  BHZ  P 1202109250139 4024                    1.7451359326514648e-06\n",
      "PN7A AV  BHZ    4202109250139             4420 S 2    0.000002\n",
      "PS1A AV  BHZ  P 0202109250139 3982                    1.2517081131591112e-06\n",
      "PS1A AV  BHZ    4202109250139             4802 S 1    0.000001\n",
      "PS4A AV  BHZ  P 0202109250139 3942                    2.4089233647828223e-06\n",
      "PS4A AV  BHZ    4202109250139             4368 S 1    0.000002\n",
      "PV6A AV  SHZ  P 2202109250139 4236                    2.0175046699932866e-07\n",
      "PVV  AV  SHZ    4202109250139             4476 S 2    0.000001\n",
      "-> Saved 9 phase picks. \n",
      "202109250157559055 2118161E5052   30\n",
      "PN7A AV  BHZ  P 2202109250158 0144                    1.5144584040172049e-06\n",
      "PS4A AV  BHZ    4202109250158             0454 S 1    0.000002\n",
      "PVV  AV  SHZ    4202109250158             0456 S 2    0.000000\n",
      "-> Saved 4 phase picks. \n",
      "202109250202382855  522161E2562    0\n",
      "PN7A AV  BHZ  P 2202109250202 4532                    1.138083007390378e-06\n",
      "PS1A AV  BHZ  P 0202109250202 4532                    1.7150861140180496e-06\n",
      "PS4A AV  BHZ    4202109250202             5028 S 2    0.000002\n",
      "PVV  AV  SHZ    4202109250202             4912 S 1    0.000000\n",
      "-> Saved 5 phase picks. \n",
      "202109250213522355 1392162E 756    7\n",
      "HAG  AV  SHZ    4202109250213             5764 S 2    0.000000\n",
      "PN7A AV  BHZ  P 1202109250213 5644                    1.0698333881009605e-06\n",
      "PS4A AV  BHZ    4202109250213             5878 S 2    0.000001\n",
      "PVV  AV  SHZ    4202109250214             0016 S 0    0.000000\n",
      "-> Saved 5 phase picks. \n",
      "202109250216080154 5868161E4890    0\n",
      "PN7A AV  BHZ  P 0202109250216 1628                    2.0207617126288824e-06\n",
      "PS1A AV  BHZ  P 1202109250216 1664                    1.9780445654760115e-06\n",
      "PS4A AV  BHZ    4202109250216             1974 S 1    0.000001\n",
      "PV6A AV  SHZ    4202109250216             2564 S 2    0.000000\n",
      "PVV  AV  SHZ    4202109250216             2040 S 2    0.000000\n",
      "-> Saved 6 phase picks. \n",
      "202109250216506055 2574161E3948   36\n",
      "PS4A AV  BHZ  P 0202109250216 5718                    1.780244019755628e-06\n",
      "PS4A AV  BHZ    4202109250217             0140 S 2    0.000001\n",
      "PVV  AV  SHZ    4202109250217             0144 S 2    0.000000\n",
      "-> Saved 4 phase picks. \n",
      "202109250558208054 5430161E4284    0\n",
      "DEER AV  BHZ  P 2202109250558 2660                    5.763092190136376e-07\n",
      "DT1  AV  BHZ  P 1202109250558 2774                    6.885617835905578e-07\n",
      "DTN  AV  BHZ  P 1202109250558 2910                    1.100296685763169e-06\n",
      "HAG  AV  SHZ  P 1202109250558 2816                    6.08048480899015e-07\n",
      "PV6A AV  SHZ  P 0202109250558 3272                    2.332683521899526e-07\n",
      "-> Saved 6 phase picks. \n",
      "202109250558522954 5784161E2964    0\n",
      "DEER AV  BHZ    4202109250559             0722 S 2    0.000001\n",
      "DT1  AV  BHZ    4202109250559             0882 S 0    0.000001\n",
      "PVV  AV  SHZ    4202109250559             0598 S 1    0.000000\n",
      "-> Saved 4 phase picks. \n",
      "202109250633075855 3270161E5982   13\n",
      "DEER AV  BHZ  P 0202109250633 1900                    6.697298999824852e-07\n",
      "DOL  AV  BHZ  P 0202109250633 1538                    9.858187013378483e-07\n",
      "PN7A AV  BHZ  P 0202109250633 1068                    1.5711182186350925e-06\n",
      "PN7A AV  BHZ    4202109250633             1294 S 0    0.000002\n",
      "-> Saved 5 phase picks. \n",
      "202109250633126254 5430161E3576    0\n",
      "DT1  AV  BHZ  P 0202109250633 2062                    7.004613848948793e-07\n",
      "DTN  AV  BHZ  P 0202109250633 2154                    8.357393426194903e-07\n",
      "HAG  AV  SHZ  P 0202109250633 2008                    6.118523288023425e-07\n",
      "PS1A AV  BHZ  P 0202109250633 2086                    1.882726905932941e-06\n",
      "PV6A AV  SHZ  P 2202109250633 2552                    1.623570682340869e-07\n",
      "S12K AV  BHZ  P 1202109250633 2964                    8.650770269014174e-07\n",
      "-> Saved 7 phase picks. \n"
     ]
    },
    {
     "name": "stderr",
     "output_type": "stream",
     "text": [
      "\n"
     ]
    }
   ],
   "source": [
    "pickfile='GAMMA_picks.csv'\n",
    "eventfile='GAMMA_catalog.csv'\n",
    "phase_file='input/GAMMA_phases_ready.phs' #output file after conversion.\n",
    "\n",
    "utils.conv_gamma(eventfile,pickfile,outfile=phase_file,qc=False,default_component='Z',v=True)"
   ]
  },
  {
   "cell_type": "markdown",
   "id": "479874f2-b954-4081-baa2-726fedd93b07",
   "metadata": {},
   "source": [
    "## Setup parameters for HypoInverse code\n",
    "Major parameters to run the code are carried through with a container class named `HypoInvPy.core.HypoInvConfig()`. This class is simplified from the `config()` class in `Hypo-Interface-Py`. In `HypoInvPy`, I also reduced the number of metadata/parameters, to focus only on required key parameters.\n",
    "\n",
    "Examples here use the phase information directly from the `EQTransformer` association step. The station information file has been reformated as shown in the previous cell. "
   ]
  },
  {
   "cell_type": "code",
   "execution_count": 5,
   "id": "3298b21d-8733-4de3-93af-92c277b2aa5c",
   "metadata": {},
   "outputs": [],
   "source": [
    "# modified from https://github.com/YijianZhou/Hypo-Interface-Py\n",
    "station_file=station_ready\n",
    "pmodel='input/velo_p_eg.cre'\n",
    "smodel='input/velo_s_eg.cre'\n",
    "lat_code='N'\n",
    "lon_code='W'\n",
    "depth_try_list=np.arange(0,20,1)\n",
    "min_nsta=4 #minimum number of stations to relocate the earthquake. 4 is recommeneded as the minimum to get a reliable location.\n",
    "keep_summary_files=False #keep intermediate summary files from each relocation run?\n",
    "outputdir='output'\n",
    "\n",
    "cfg = hc.HypoInvConfig(phase_file=phase_file,station_file=station_file,\n",
    "                       pmodel=pmodel,smodel=smodel,min_nsta=min_nsta,\n",
    "                      lat_code=lat_code,lon_code=lon_code,ztrlist=depth_try_list)\n",
    "#file names for the final summary catalogs.\n",
    "out_bad = '%s/%s_bad.csv'%(outputdir,cfg.run_tag)\n",
    "out_good = '%s/%s_good.csv'%(outputdir,cfg.run_tag)"
   ]
  },
  {
   "cell_type": "markdown",
   "id": "d72a28e1-307a-4ee6-a4ec-7df9543adc1d",
   "metadata": {},
   "source": [
    "## Run hypoinverse through the interface\n",
    "This is the key step to run hypoinverse. I kept the way Hypo-Interface-Py uses running the code on a series of initial depths. This list is specified as `ztrlist` in the configuration step above."
   ]
  },
  {
   "cell_type": "code",
   "execution_count": 6,
   "id": "1ca738e6-76dd-4a6b-80a6-8c7b8f904f11",
   "metadata": {
    "scrolled": true
   },
   "outputs": [
    {
     "name": "stdout",
     "output_type": "stream",
     "text": [
      " HYPOINVERSE 2000 STARTING\n",
      "6/2014 VERSION 1.40 (geoid depth possible)                            \n",
      " COMMAND?     33 STATIONS READ IN.\n",
      "  FIND INPUT PHASE FILE TYPE & SET PHS(COP) & ARC(CAR) FORMATS\n",
      "  INPUT IS A HYPOINVERSE ARCHIVE-2000 FILE, NO SHADOWS\n",
      "  SETTING FORMATS COP 3, CAR 1\n",
      " *** DISTANCE & RESIDUAL WEIGHTING CANCELLED FOR EVENT: 2021  9 25  0  0\n",
      "  SEQ ---DATE--- TIME REMARK -LAT-  --LON-  DEPTH  RMS PMAG  NUM  ERH  ERZ  ID\n",
      "    1 2021- 9-25  0:00     - 55 22  162 23   0.00 1.72  0.0    5 12.3 99.0         1\n",
      "    2 2021- 9-25  1:39     # 55  3  162  8   0.02 0.53  0.0    7  7.6  9.9         2\n",
      " *** 3 PHASES CANT SOLVE SEQUENCE NO.    3, ID NO.         3\n",
      " *** ABANDON EVENT WITH ONLY 3 READINGS:2021  9 25  1 58\n",
      "    4 2021- 9-25  2:02     - 55 35  161 49   0.00 0.13  0.0    4  2.4 16.7         4\n",
      " *** DISTANCE & RESIDUAL WEIGHTING CANCELLED FOR EVENT: 2021  9 25  2 13\n",
      "    5 2021- 9-25  2:13     - 55 21  162  4   0.00 0.21  0.0    4  3.3 21.1         5\n",
      " *** DISTANCE & RESIDUAL WEIGHTING CANCELLED FOR EVENT: 2021  9 25  2 16\n",
      "    6 2021- 9-25  2:16     # 55 30  161 54   1.09 2.09  0.0    5 12.6 90.3         6\n",
      " *** 3 PHASES CANT SOLVE SEQUENCE NO.    7, ID NO.         7\n",
      " *** ABANDON EVENT WITH ONLY 3 READINGS:2021  9 25  2 16\n",
      "    8 2021- 9-25  5:58     - 54 44  161 37   0.00 0.36  0.0    5 25.6 32.6         8\n",
      " *** 3 PHASES CANT SOLVE SEQUENCE NO.    9, ID NO.         9\n",
      " *** ABANDON EVENT WITH ONLY 3 READINGS:2021  9 25  5 59\n",
      "   10 2021- 9-25  6:33     # 55 27  162 12   0.00 0.45  0.0    4  7.4 11.1        10\n",
      "   11 2021- 9-25  6:33     - 54 56  161 26   0.01 0.25  0.0    4 18.3 24.2        11\n",
      " *** ERROR IN MAG PARAMETERS - TRY AGAIN ***\n",
      " COMMAND?  HYPOINVERSE 2000 STARTING\n",
      "6/2014 VERSION 1.40 (geoid depth possible)                            \n",
      " COMMAND?     33 STATIONS READ IN.\n",
      "  FIND INPUT PHASE FILE TYPE & SET PHS(COP) & ARC(CAR) FORMATS\n",
      "  INPUT IS A HYPOINVERSE ARCHIVE-2000 FILE, NO SHADOWS\n",
      "  SETTING FORMATS COP 3, CAR 1\n",
      " *** DISTANCE & RESIDUAL WEIGHTING CANCELLED FOR EVENT: 2021  9 25  0  0\n",
      "  SEQ ---DATE--- TIME REMARK -LAT-  --LON-  DEPTH  RMS PMAG  NUM  ERH  ERZ  ID\n",
      "    1 2021- 9-25  0:00     - 55 21  162 22   1.00 1.72  0.0    5 12.0 98.9         1\n",
      "    2 2021- 9-25  1:39     # 55  3  162  9   0.07 0.53  0.0    7  7.6 10.0         2\n",
      " *** 3 PHASES CANT SOLVE SEQUENCE NO.    3, ID NO.         3\n",
      " *** ABANDON EVENT WITH ONLY 3 READINGS:2021  9 25  1 58\n",
      "    4 2021- 9-25  2:02     - 55 35  161 50   1.00 0.06  0.0    4  1.8 13.3         4\n",
      " *** DISTANCE & RESIDUAL WEIGHTING CANCELLED FOR EVENT: 2021  9 25  2 13\n",
      "    5 2021- 9-25  2:13     - 55 19  162  6   0.23 0.02  0.0    4  3.0 12.4         5\n",
      " *** DISTANCE & RESIDUAL WEIGHTING CANCELLED FOR EVENT: 2021  9 25  2 16\n",
      "    6 2021- 9-25  2:16     # 54 58  162  4   0.99 0.63  0.0    5 13.0  9.3         6\n",
      " *** 3 PHASES CANT SOLVE SEQUENCE NO.    7, ID NO.         7\n",
      " *** ABANDON EVENT WITH ONLY 3 READINGS:2021  9 25  2 16\n",
      "    8 2021- 9-25  5:58     - 54 42  161 35   1.00 0.34  0.0    4 25.5 31.0         8\n",
      " *** 3 PHASES CANT SOLVE SEQUENCE NO.    9, ID NO.         9\n",
      " *** ABANDON EVENT WITH ONLY 3 READINGS:2021  9 25  5 59\n",
      " *** DISTANCE & RESIDUAL WEIGHTING CANCELLED FOR EVENT: 2021  9 25  6 33\n",
      "   10 2021- 9-25  6:33     - 55 22  162  5   0.79 0.58  0.0    4  6.1 40.9        10\n",
      "   11 2021- 9-25  6:33     - 54 56  161 24   1.00 0.30  0.0    4 21.1 27.6        11\n",
      " *** ERROR IN MAG PARAMETERS - TRY AGAIN ***\n",
      " COMMAND?  HYPOINVERSE 2000 STARTING\n",
      "6/2014 VERSION 1.40 (geoid depth possible)                            \n",
      " COMMAND?     33 STATIONS READ IN.\n",
      "  FIND INPUT PHASE FILE TYPE & SET PHS(COP) & ARC(CAR) FORMATS\n",
      "  INPUT IS A HYPOINVERSE ARCHIVE-2000 FILE, NO SHADOWS\n",
      "  SETTING FORMATS COP 3, CAR 1\n",
      " *** DISTANCE & RESIDUAL WEIGHTING CANCELLED FOR EVENT: 2021  9 25  0  0\n",
      "  SEQ ---DATE--- TIME REMARK -LAT-  --LON-  DEPTH  RMS PMAG  NUM  ERH  ERZ  ID\n",
      "    1 2021- 9-25  0:00     - 55 21  162 21   2.00 1.70  0.0    5 11.6 98.8         1\n",
      "    2 2021- 9-25  1:39     # 55 17  161 49  36.28 0.01  0.0    4  3.5  1.4         2\n",
      " *** 3 PHASES CANT SOLVE SEQUENCE NO.    3, ID NO.         3\n",
      " *** ABANDON EVENT WITH ONLY 3 READINGS:2021  9 25  1 58\n",
      "    4 2021- 9-25  2:02     - 55 35  161 50   2.03 0.06  0.0    4  1.8 13.2         4\n",
      " *** DISTANCE & RESIDUAL WEIGHTING CANCELLED FOR EVENT: 2021  9 25  2 13\n",
      "    5 2021- 9-25  2:13     - 55 19  162  6   0.41 0.02  0.0    4  2.9 12.4         5\n",
      " *** DISTANCE & RESIDUAL WEIGHTING CANCELLED FOR EVENT: 2021  9 25  2 16\n",
      "    6 2021- 9-25  2:16     # 54 57  162  4   2.00 0.67  0.0    5 13.2  7.3         6\n",
      " *** 3 PHASES CANT SOLVE SEQUENCE NO.    7, ID NO.         7\n",
      " *** ABANDON EVENT WITH ONLY 3 READINGS:2021  9 25  2 16\n",
      "    8 2021- 9-25  5:58     - 54 38  161 31   4.83 0.33  0.0    4 26.4 29.7         8\n",
      " *** 3 PHASES CANT SOLVE SEQUENCE NO.    9, ID NO.         9\n",
      " *** ABANDON EVENT WITH ONLY 3 READINGS:2021  9 25  5 59\n",
      " *** DISTANCE & RESIDUAL WEIGHTING CANCELLED FOR EVENT: 2021  9 25  6 33\n",
      "   10 2021- 9-25  6:33     - 55 23  162  6   0.50 0.54  0.0    4  5.8 40.1        10\n",
      "   11 2021- 9-25  6:33     - 54 55  161 21   2.13 0.28  0.0    4 20.6 26.4        11\n",
      " *** ERROR IN MAG PARAMETERS - TRY AGAIN ***\n",
      " COMMAND?  HYPOINVERSE 2000 STARTING\n",
      "6/2014 VERSION 1.40 (geoid depth possible)                            \n",
      " COMMAND?     33 STATIONS READ IN.\n",
      "  FIND INPUT PHASE FILE TYPE & SET PHS(COP) & ARC(CAR) FORMATS\n",
      "  INPUT IS A HYPOINVERSE ARCHIVE-2000 FILE, NO SHADOWS\n",
      "  SETTING FORMATS COP 3, CAR 1\n",
      " *** DISTANCE & RESIDUAL WEIGHTING CANCELLED FOR EVENT: 2021  9 25  0  0\n",
      "  SEQ ---DATE--- TIME REMARK -LAT-  --LON-  DEPTH  RMS PMAG  NUM  ERH  ERZ  ID\n",
      "    1 2021- 9-25  0:00     - 55 21  162 18   2.76 1.67  0.0    5 10.7 98.7         1\n",
      "    2 2021- 9-25  1:39       55  2  162 10   1.50 0.64  0.0    7 11.4  3.2         2\n",
      " *** 3 PHASES CANT SOLVE SEQUENCE NO.    3, ID NO.         3\n",
      " *** ABANDON EVENT WITH ONLY 3 READINGS:2021  9 25  1 58\n",
      "    4 2021- 9-25  2:02     - 55 35  161 50   3.04 0.06  0.0    4  1.9 13.2         4\n",
      " *** DISTANCE & RESIDUAL WEIGHTING CANCELLED FOR EVENT: 2021  9 25  2 13\n",
      "    5 2021- 9-25  2:13     - 55 19  162  6   1.04 0.02  0.0    4  3.1 12.2         5\n",
      " *** DISTANCE & RESIDUAL WEIGHTING CANCELLED FOR EVENT: 2021  9 25  2 16\n",
      "    6 2021- 9-25  2:16     - 54 59  162  2   2.99 0.54  0.0    5 19.4 42.6         6\n",
      " *** 3 PHASES CANT SOLVE SEQUENCE NO.    7, ID NO.         7\n",
      " *** ABANDON EVENT WITH ONLY 3 READINGS:2021  9 25  2 16\n",
      "    8 2021- 9-25  5:58     - 54 35  161 28   3.00 0.32  0.0    4 26.8 29.2         8\n",
      " *** 3 PHASES CANT SOLVE SEQUENCE NO.    9, ID NO.         9\n",
      " *** ABANDON EVENT WITH ONLY 3 READINGS:2021  9 25  5 59\n",
      " *** DISTANCE & RESIDUAL WEIGHTING CANCELLED FOR EVENT: 2021  9 25  6 33\n",
      "   10 2021- 9-25  6:33     - 55 22  162  3   2.44 0.57  0.0    4 28.3 35.4        10\n",
      "   11 2021- 9-25  6:33     - 54 53  161 19   3.00 0.29  0.0    4 22.7 27.2        11\n",
      " *** ERROR IN MAG PARAMETERS - TRY AGAIN ***\n",
      " COMMAND?  HYPOINVERSE 2000 STARTING\n",
      "6/2014 VERSION 1.40 (geoid depth possible)                            \n",
      " COMMAND?     33 STATIONS READ IN.\n",
      "  FIND INPUT PHASE FILE TYPE & SET PHS(COP) & ARC(CAR) FORMATS\n",
      "  INPUT IS A HYPOINVERSE ARCHIVE-2000 FILE, NO SHADOWS\n",
      "  SETTING FORMATS COP 3, CAR 1\n",
      " *** DISTANCE & RESIDUAL WEIGHTING CANCELLED FOR EVENT: 2021  9 25  0  0\n",
      "  SEQ ---DATE--- TIME REMARK -LAT-  --LON-  DEPTH  RMS PMAG  NUM  ERH  ERZ  ID\n",
      "    1 2021- 9-25  0:00     - 55 21  162 19   2.00 1.69  0.0    5 10.9 98.8         1\n",
      "    2 2021- 9-25  1:39     - 55  7  161 30   6.82 0.11  0.0    5  2.9 15.5         2\n",
      " *** 3 PHASES CANT SOLVE SEQUENCE NO.    3, ID NO.         3\n",
      " *** ABANDON EVENT WITH ONLY 3 READINGS:2021  9 25  1 58\n",
      "    4 2021- 9-25  2:02     - 55 35  161 50   4.05 0.06  0.0    4  1.9 13.0         4\n",
      " *** DISTANCE & RESIDUAL WEIGHTING CANCELLED FOR EVENT: 2021  9 25  2 13\n",
      "    5 2021- 9-25  2:13     - 55 19  162  6   1.68 0.02  0.0    4  3.8 11.9         5\n",
      " *** DISTANCE & RESIDUAL WEIGHTING CANCELLED FOR EVENT: 2021  9 25  2 16\n",
      "    6 2021- 9-25  2:16     - 54 58  162  2   2.95 0.57  0.0    5 20.2 44.3         6\n",
      " *** 3 PHASES CANT SOLVE SEQUENCE NO.    7, ID NO.         7\n",
      " *** ABANDON EVENT WITH ONLY 3 READINGS:2021  9 25  2 16\n",
      "    8 2021- 9-25  5:58     - 54 35  161 27   4.00 0.32  0.0    4 27.1 29.4         8\n",
      " *** 3 PHASES CANT SOLVE SEQUENCE NO.    9, ID NO.         9\n",
      " *** ABANDON EVENT WITH ONLY 3 READINGS:2021  9 25  5 59\n",
      " *** DISTANCE & RESIDUAL WEIGHTING CANCELLED FOR EVENT: 2021  9 25  6 33\n",
      "   10 2021- 9-25  6:33     - 55 23  162  2   3.86 0.56  0.0    4 32.2 33.1        10\n",
      "   11 2021- 9-25  6:33     - 54 54  161 20   4.00 0.29  0.0    4 22.4 27.4        11\n",
      " *** ERROR IN MAG PARAMETERS - TRY AGAIN ***\n",
      " COMMAND?  HYPOINVERSE 2000 STARTING\n",
      "6/2014 VERSION 1.40 (geoid depth possible)                            \n",
      " COMMAND?     33 STATIONS READ IN.\n",
      "  FIND INPUT PHASE FILE TYPE & SET PHS(COP) & ARC(CAR) FORMATS\n",
      "  INPUT IS A HYPOINVERSE ARCHIVE-2000 FILE, NO SHADOWS\n",
      "  SETTING FORMATS COP 3, CAR 1\n",
      " *** DISTANCE & RESIDUAL WEIGHTING CANCELLED FOR EVENT: 2021  9 25  0  0\n",
      "  SEQ ---DATE--- TIME REMARK -LAT-  --LON-  DEPTH  RMS PMAG  NUM  ERH  ERZ  ID\n",
      "    1 2021- 9-25  0:00     # 55 19  162 13   2.19 1.73  0.0    5  9.8 98.7         1\n",
      "    2 2021- 9-25  1:39     - 55  7  161 30   6.52 0.10  0.0    5  2.8 14.9         2\n",
      " *** 3 PHASES CANT SOLVE SEQUENCE NO.    3, ID NO.         3\n",
      " *** ABANDON EVENT WITH ONLY 3 READINGS:2021  9 25  1 58\n",
      "    4 2021- 9-25  2:02     - 55 35  161 50   5.05 0.06  0.0    4  1.9 12.8         4\n",
      " *** DISTANCE & RESIDUAL WEIGHTING CANCELLED FOR EVENT: 2021  9 25  2 13\n",
      "    5 2021- 9-25  2:13     - 55 19  162  6   2.31 0.02  0.0    4  4.4 11.6         5\n",
      " *** DISTANCE & RESIDUAL WEIGHTING CANCELLED FOR EVENT: 2021  9 25  2 16\n",
      "    6 2021- 9-25  2:16     - 54 58  162  3   3.80 0.59  0.0    5 21.2 46.5         6\n",
      " *** 3 PHASES CANT SOLVE SEQUENCE NO.    7, ID NO.         7\n",
      " *** ABANDON EVENT WITH ONLY 3 READINGS:2021  9 25  2 16\n",
      "    8 2021- 9-25  5:58     - 54 35  161 27   5.00 0.32  0.0    4 26.7 29.0         8\n",
      " *** 3 PHASES CANT SOLVE SEQUENCE NO.    9, ID NO.         9\n",
      " *** ABANDON EVENT WITH ONLY 3 READINGS:2021  9 25  5 59\n",
      "   10 2021- 9-25  6:33       55 33  161 59  11.86 0.00  0.0    4  2.7  1.0        10\n",
      "   11 2021- 9-25  6:33     - 54 55  161 21   5.00 0.30  0.0    4 22.0 27.5        11\n",
      " *** ERROR IN MAG PARAMETERS - TRY AGAIN ***\n",
      " COMMAND?  HYPOINVERSE 2000 STARTING\n",
      "6/2014 VERSION 1.40 (geoid depth possible)                            \n",
      " COMMAND?     33 STATIONS READ IN.\n",
      "  FIND INPUT PHASE FILE TYPE & SET PHS(COP) & ARC(CAR) FORMATS\n",
      "  INPUT IS A HYPOINVERSE ARCHIVE-2000 FILE, NO SHADOWS\n",
      "  SETTING FORMATS COP 3, CAR 1\n",
      " *** DISTANCE & RESIDUAL WEIGHTING CANCELLED FOR EVENT: 2021  9 25  0  0\n",
      "  SEQ ---DATE--- TIME REMARK -LAT-  --LON-  DEPTH  RMS PMAG  NUM  ERH  ERZ  ID\n",
      "    1 2021- 9-25  0:00     # 55 18  162 10  10.07 1.70  0.0    5 14.6 43.9         1\n",
      "    2 2021- 9-25  1:39     - 55  7  161 30   6.65 0.10  0.0    5  2.8 14.8         2\n",
      " *** 3 PHASES CANT SOLVE SEQUENCE NO.    3, ID NO.         3\n",
      " *** ABANDON EVENT WITH ONLY 3 READINGS:2021  9 25  1 58\n",
      "    4 2021- 9-25  2:02     - 55 35  161 50   4.44 0.06  0.0    4  1.9 13.0         4\n",
      " *** DISTANCE & RESIDUAL WEIGHTING CANCELLED FOR EVENT: 2021  9 25  2 13\n",
      "    5 2021- 9-25  2:13     - 55 18  162  6   4.55 0.02  0.0    4  6.3 10.4         5\n",
      " *** DISTANCE & RESIDUAL WEIGHTING CANCELLED FOR EVENT: 2021  9 25  2 16\n",
      "    6 2021- 9-25  2:16     - 54 58  162  2   5.15 0.52  0.0    5 18.7 41.1         6\n",
      " *** 3 PHASES CANT SOLVE SEQUENCE NO.    7, ID NO.         7\n",
      " *** ABANDON EVENT WITH ONLY 3 READINGS:2021  9 25  2 16\n",
      "    8 2021- 9-25  5:58     - 54 45  161 38   6.01 0.37  0.0    5 25.9 33.2         8\n",
      " *** 3 PHASES CANT SOLVE SEQUENCE NO.    9, ID NO.         9\n",
      " *** ABANDON EVENT WITH ONLY 3 READINGS:2021  9 25  5 59\n",
      "   10 2021- 9-25  6:33       55 33  161 59  11.86 0.00  0.0    4  2.7  1.0        10\n",
      "   11 2021- 9-25  6:33     - 54 53  161 19   6.00 0.29  0.0    4 22.2 27.2        11\n",
      " *** ERROR IN MAG PARAMETERS - TRY AGAIN ***\n",
      " COMMAND?  HYPOINVERSE 2000 STARTING\n",
      "6/2014 VERSION 1.40 (geoid depth possible)                            \n",
      " COMMAND?     33 STATIONS READ IN.\n",
      "  FIND INPUT PHASE FILE TYPE & SET PHS(COP) & ARC(CAR) FORMATS\n",
      "  INPUT IS A HYPOINVERSE ARCHIVE-2000 FILE, NO SHADOWS\n",
      "  SETTING FORMATS COP 3, CAR 1\n",
      " *** DISTANCE & RESIDUAL WEIGHTING CANCELLED FOR EVENT: 2021  9 25  0  0\n",
      "  SEQ ---DATE--- TIME REMARK -LAT-  --LON-  DEPTH  RMS PMAG  NUM  ERH  ERZ  ID\n",
      "    1 2021- 9-25  0:00     - 55 18  162 10   6.79 1.74  0.0    5 10.7 98.8         1\n",
      "    2 2021- 9-25  1:39     - 55  7  161 31   6.97 0.12  0.0    5  3.0 15.8         2\n",
      " *** 3 PHASES CANT SOLVE SEQUENCE NO.    3, ID NO.         3\n",
      " *** ABANDON EVENT WITH ONLY 3 READINGS:2021  9 25  1 58\n",
      "    4 2021- 9-25  2:02     - 55 35  161 50   7.00 0.07  0.0    4  2.2 13.9         4\n",
      " *** DISTANCE & RESIDUAL WEIGHTING CANCELLED FOR EVENT: 2021  9 25  2 13\n",
      "    5 2021- 9-25  2:13     - 55 18  162  6   5.91 0.02  0.0    4  7.7  9.3         5\n",
      " *** DISTANCE & RESIDUAL WEIGHTING CANCELLED FOR EVENT: 2021  9 25  2 16\n",
      "    6 2021- 9-25  2:16     - 54 59  162  1   7.00 0.37  0.0    5  7.4 33.3         6\n",
      " *** 3 PHASES CANT SOLVE SEQUENCE NO.    7, ID NO.         7\n",
      " *** ABANDON EVENT WITH ONLY 3 READINGS:2021  9 25  2 16\n",
      "    8 2021- 9-25  5:58     - 54 47  161 40   7.00 0.39  0.0    5 25.4 34.8         8\n",
      " *** 3 PHASES CANT SOLVE SEQUENCE NO.    9, ID NO.         9\n",
      " *** ABANDON EVENT WITH ONLY 3 READINGS:2021  9 25  5 59\n",
      "   10 2021- 9-25  6:33       55 28  161 60  11.67 0.15  0.0    4  5.7  1.6        10\n",
      "   11 2021- 9-25  6:33     - 54 51  161 18   7.00 0.22  0.0    4 18.9 22.5        11\n",
      " *** ERROR IN MAG PARAMETERS - TRY AGAIN ***\n",
      " COMMAND?  HYPOINVERSE 2000 STARTING\n",
      "6/2014 VERSION 1.40 (geoid depth possible)                            \n",
      " COMMAND?     33 STATIONS READ IN.\n",
      "  FIND INPUT PHASE FILE TYPE & SET PHS(COP) & ARC(CAR) FORMATS\n",
      "  INPUT IS A HYPOINVERSE ARCHIVE-2000 FILE, NO SHADOWS\n",
      "  SETTING FORMATS COP 3, CAR 1\n",
      " *** DISTANCE & RESIDUAL WEIGHTING CANCELLED FOR EVENT: 2021  9 25  0  0\n",
      "  SEQ ---DATE--- TIME REMARK -LAT-  --LON-  DEPTH  RMS PMAG  NUM  ERH  ERZ  ID\n",
      "    1 2021- 9-25  0:00     # 55 14  161 30  35.76 0.65  0.0    5 10.4  8.4         1\n",
      "    2 2021- 9-25  1:39     - 55  7  161 30   7.93 0.10  0.0    5  2.8 14.9         2\n",
      " *** 3 PHASES CANT SOLVE SEQUENCE NO.    3, ID NO.         3\n",
      " *** ABANDON EVENT WITH ONLY 3 READINGS:2021  9 25  1 58\n",
      " *** DISTANCE & RESIDUAL WEIGHTING CANCELLED FOR EVENT: 2021  9 25  2  2\n",
      "    4 2021- 9-25  2:02     - 55 34  161 46   7.76 0.18  0.0    4  3.3 19.4         4\n",
      " *** DISTANCE & RESIDUAL WEIGHTING CANCELLED FOR EVENT: 2021  9 25  2 13\n",
      "    5 2021- 9-25  2:13     # 55 17  162  7   6.28 0.00  0.0    4  8.4  0.6         5\n",
      " *** DISTANCE & RESIDUAL WEIGHTING CANCELLED FOR EVENT: 2021  9 25  2 16\n",
      "    6 2021- 9-25  2:16     - 55  0  161 57   7.99 0.27  0.0    5  5.8 25.0         6\n",
      " *** 3 PHASES CANT SOLVE SEQUENCE NO.    7, ID NO.         7\n",
      " *** ABANDON EVENT WITH ONLY 3 READINGS:2021  9 25  2 16\n",
      "    8 2021- 9-25  5:58     - 54 46  161 39   8.00 0.39  0.0    5 25.4 34.9         8\n",
      " *** 3 PHASES CANT SOLVE SEQUENCE NO.    9, ID NO.         9\n",
      " *** ABANDON EVENT WITH ONLY 3 READINGS:2021  9 25  5 59\n",
      "   10 2021- 9-25  6:33       55 33  161 59  11.89 0.00  0.0    4  2.7  1.0        10\n",
      "   11 2021- 9-25  6:33     - 54 52  161 16   8.00 0.29  0.0    4 23.6 27.2        11\n",
      " *** ERROR IN MAG PARAMETERS - TRY AGAIN ***\n",
      " COMMAND?  HYPOINVERSE 2000 STARTING\n",
      "6/2014 VERSION 1.40 (geoid depth possible)                            \n",
      " COMMAND?     33 STATIONS READ IN.\n",
      "  FIND INPUT PHASE FILE TYPE & SET PHS(COP) & ARC(CAR) FORMATS\n",
      "  INPUT IS A HYPOINVERSE ARCHIVE-2000 FILE, NO SHADOWS\n",
      "  SETTING FORMATS COP 3, CAR 1\n",
      " *** DISTANCE & RESIDUAL WEIGHTING CANCELLED FOR EVENT: 2021  9 25  0  0\n",
      "  SEQ ---DATE--- TIME REMARK -LAT-  --LON-  DEPTH  RMS PMAG  NUM  ERH  ERZ  ID\n",
      "    1 2021- 9-25  0:00     # 55 14  161 30  33.48 0.64  0.0    5  9.9  6.5         1\n",
      "    2 2021- 9-25  1:39     - 55  7  161 30   8.80 0.09  0.0    5  2.8 13.9         2\n",
      " *** 3 PHASES CANT SOLVE SEQUENCE NO.    3, ID NO.         3\n",
      " *** ABANDON EVENT WITH ONLY 3 READINGS:2021  9 25  1 58\n",
      " *** DISTANCE & RESIDUAL WEIGHTING CANCELLED FOR EVENT: 2021  9 25  2  2\n",
      "    4 2021- 9-25  2:02     - 55 34  161 47   8.99 0.18  0.0    4  3.2 17.9         4\n",
      " *** DISTANCE & RESIDUAL WEIGHTING CANCELLED FOR EVENT: 2021  9 25  2 13\n",
      "    5 2021- 9-25  2:13     - 55 16  162  7   6.40 0.00  0.0    4 11.6  1.3         5\n"
     ]
    }
   ],
   "source": [
    "# 1. produce parameter files for each testing initial depth.\n",
    "hypparfiledir='input'\n",
    "hypparfilelist=hc.generate_parfile(cfg,hypparfiledir,outdir=outputdir,magline='MAG')\n",
    "\n",
    "# 2. Run hypoinverse with all parameter files.\n",
    "hc.run_hypoinv(hypparfilelist)"
   ]
  },
  {
   "cell_type": "markdown",
   "id": "57c2b5ef-69c6-4958-8947-97be89f70536",
   "metadata": {},
   "source": [
    "## Extract inversion results based on quality\n",
    "In `hc.merge_summary`, you can pass the original event catalog to retrieve the magnitude information. Otherwise, the function will extract the magnitude from the HypoInverse results."
   ]
  },
  {
   "cell_type": "code",
   "execution_count": 7,
   "id": "454a9961-fdd6-4062-8f23-b7e50bfeb645",
   "metadata": {},
   "outputs": [
    {
     "name": "stdout",
     "output_type": "stream",
     "text": [
      "converting output sum files\n",
      "Earthquakes are saved in: output/hyp_good.csv and output/hyp_bad.csv for good and bad sources.\n"
     ]
    }
   ],
   "source": [
    "print('converting output sum files')\n",
    "summary_filelist=glob.glob('%s/%s-*.sum'%(outputdir,cfg.run_tag))\n",
    "\n",
    "hc.merge_summary(summary_filelist,out_good,out_bad,lat_code,lon_code,mag_dict=eventfile)\n"
   ]
  },
  {
   "cell_type": "code",
   "execution_count": 8,
   "id": "03ffc060-f5c4-4376-bc25-400b182413c1",
   "metadata": {},
   "outputs": [],
   "source": [
    "# remove intermidiate files\n",
    "for fname in glob.glob('fort.*'): os.unlink(fname)\n",
    "for fname in glob.glob('input/%s-*.hyp'%cfg.run_tag): os.unlink(fname)\n",
    "if not keep_summary_files:\n",
    "    for fname in glob.glob(outputdir+'/'+cfg.run_tag+'*.sum'): os.unlink(fname)"
   ]
  },
  {
   "cell_type": "markdown",
   "id": "aff2186a-17ce-4a9a-8256-9d05af39fb0e",
   "metadata": {},
   "source": [
    "## Read and plot the earthquakes"
   ]
  },
  {
   "cell_type": "code",
   "execution_count": 9,
   "id": "f3939240-c3f9-4e63-bac7-b48d14be4d59",
   "metadata": {},
   "outputs": [
    {
     "name": "stdout",
     "output_type": "stream",
     "text": [
      "       datetime  latitude  longitude  depth  magnitude  evid\n",
      "0  2.021093e+13   55.2442  -161.4437   27.2       1.16     1\n",
      "1  2.021093e+13   55.2765  -161.8112   36.3       1.03     2\n",
      "2  2.021093e+13   55.4670  -161.9987   11.7       0.81    10\n"
     ]
    }
   ],
   "source": [
    "quakes=pd.read_csv(out_good,header=None,names=[\"datetime\",\"latitude\",\"longitude\",\"depth\",\"magnitude\",\"evid\"])\n",
    "print(quakes)"
   ]
  },
  {
   "cell_type": "markdown",
   "id": "527b2879-a722-46d0-b109-6175e52761da",
   "metadata": {},
   "source": [
    "## Plot earthquakes scaled by magnitude and colored by depth"
   ]
  },
  {
   "cell_type": "code",
   "execution_count": 22,
   "id": "ecb6c27f-2d54-47c6-82f4-a90515468938",
   "metadata": {},
   "outputs": [
    {
     "data": {
      "image/png": "[encoded data removed]",
      "text/plain": [
       "<Figure size 640x480 with 2 Axes>"
      ]
     },
     "metadata": {},
     "output_type": "display_data"
    }
   ],
   "source": [
    "plt.scatter(quakes.longitude,quakes.latitude,20*np.power(3,quakes.magnitude),quakes.depth,edgecolors='k')\n",
    "plt.colorbar(label='depth (km)')\n",
    "plt.show()"
   ]
  },
  {
   "cell_type": "code",
   "execution_count": null,
   "id": "f3f062e5-68bb-4b08-b407-9fbaeafd17c6",
   "metadata": {},
   "outputs": [],
   "source": []
  }
 ],
 "metadata": {
  "kernelspec": {
   "display_name": "hypoinv",
   "language": "python",
   "name": "hypoinv"
  },
  "language_info": {
   "codemirror_mode": {
    "name": "ipython",
    "version": 3
   },
   "file_extension": ".py",
   "mimetype": "text/x-python",
   "name": "python",
   "nbconvert_exporter": "python",
   "pygments_lexer": "ipython3",
   "version": "3.11.7"
  }
 },
 "nbformat": 4,
 "nbformat_minor": 5
}
